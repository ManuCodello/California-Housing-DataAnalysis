{
 "cells": [
  {
   "cell_type": "markdown",
   "id": "d05caa06",
   "metadata": {},
   "source": [
    "### Importamos las librerias que usaremos en el codigo"
   ]
  },
  {
   "cell_type": "code",
   "execution_count": 1,
   "id": "188c680e",
   "metadata": {},
   "outputs": [
    {
     "name": "stdout",
     "output_type": "stream",
     "text": [
      "Workshop is clean. Tools are sharp. Ready to work.\n"
     ]
    }
   ],
   "source": [
    "# Import the libraries to confirm they are installed \n",
    "\n",
    "import pandas as pd\n",
    "import numpy as np\n",
    "import seaborn as sns\n",
    "import matplotlib.pyplot as plt\n",
    "\n",
    "print(\"Workshop is clean. Tools are sharp. Ready to work.\")\n"
   ]
  },
  {
   "cell_type": "markdown",
   "id": "5730a413",
   "metadata": {},
   "source": [
    "## Primeros pasos\n",
    "- Convertir a data frame y analizar los datos"
   ]
  },
  {
   "cell_type": "code",
   "execution_count": 2,
   "id": "f1d1cea8",
   "metadata": {},
   "outputs": [
    {
     "name": "stdout",
     "output_type": "stream",
     "text": [
      "--- First 5 Rows (head) ---\n",
      "   longitude  latitude  housing_median_age  total_rooms  total_bedrooms  \\\n",
      "0    -122.23     37.88                41.0        880.0           129.0   \n",
      "1    -122.22     37.86                21.0       7099.0          1106.0   \n",
      "2    -122.24     37.85                52.0       1467.0           190.0   \n",
      "3    -122.25     37.85                52.0       1274.0           235.0   \n",
      "4    -122.25     37.85                52.0       1627.0           280.0   \n",
      "\n",
      "   population  households  median_income  median_house_value ocean_proximity  \n",
      "0       322.0       126.0         8.3252            452600.0        NEAR BAY  \n",
      "1      2401.0      1138.0         8.3014            358500.0        NEAR BAY  \n",
      "2       496.0       177.0         7.2574            352100.0        NEAR BAY  \n",
      "3       558.0       219.0         5.6431            341300.0        NEAR BAY  \n",
      "4       565.0       259.0         3.8462            342200.0        NEAR BAY  \n",
      "\n",
      "--- DataFrame Info ---\n",
      "<class 'pandas.core.frame.DataFrame'>\n",
      "RangeIndex: 20640 entries, 0 to 20639\n",
      "Data columns (total 10 columns):\n",
      " #   Column              Non-Null Count  Dtype  \n",
      "---  ------              --------------  -----  \n",
      " 0   longitude           20640 non-null  float64\n",
      " 1   latitude            20640 non-null  float64\n",
      " 2   housing_median_age  20640 non-null  float64\n",
      " 3   total_rooms         20640 non-null  float64\n",
      " 4   total_bedrooms      20433 non-null  float64\n",
      " 5   population          20640 non-null  float64\n",
      " 6   households          20640 non-null  float64\n",
      " 7   median_income       20640 non-null  float64\n",
      " 8   median_house_value  20640 non-null  float64\n",
      " 9   ocean_proximity     20640 non-null  object \n",
      "dtypes: float64(9), object(1)\n",
      "memory usage: 1.6+ MB\n",
      "\n",
      "--- Descriptive Statistics (describe) ---\n",
      "          longitude      latitude  housing_median_age   total_rooms  \\\n",
      "count  20640.000000  20640.000000        20640.000000  20640.000000   \n",
      "mean    -119.569704     35.631861           28.639486   2635.763081   \n",
      "std        2.003532      2.135952           12.585558   2181.615252   \n",
      "min     -124.350000     32.540000            1.000000      2.000000   \n",
      "25%     -121.800000     33.930000           18.000000   1447.750000   \n",
      "50%     -118.490000     34.260000           29.000000   2127.000000   \n",
      "75%     -118.010000     37.710000           37.000000   3148.000000   \n",
      "max     -114.310000     41.950000           52.000000  39320.000000   \n",
      "\n",
      "       total_bedrooms    population    households  median_income  \\\n",
      "count    20433.000000  20640.000000  20640.000000   20640.000000   \n",
      "mean       537.870553   1425.476744    499.539680       3.870671   \n",
      "std        421.385070   1132.462122    382.329753       1.899822   \n",
      "min          1.000000      3.000000      1.000000       0.499900   \n",
      "25%        296.000000    787.000000    280.000000       2.563400   \n",
      "50%        435.000000   1166.000000    409.000000       3.534800   \n",
      "75%        647.000000   1725.000000    605.000000       4.743250   \n",
      "max       6445.000000  35682.000000   6082.000000      15.000100   \n",
      "\n",
      "       median_house_value  \n",
      "count        20640.000000  \n",
      "mean        206855.816909  \n",
      "std         115395.615874  \n",
      "min          14999.000000  \n",
      "25%         119600.000000  \n",
      "50%         179700.000000  \n",
      "75%         264725.000000  \n",
      "max         500001.000000  \n"
     ]
    }
   ],
   "source": [
    "# Define the path to the dataset\n",
    "# Using a variable makes the code cleaner and easier to modify later\n",
    "file_path = 'data/housing.csv'\n",
    "\n",
    "# Load the dataset into a pandas DataFrame\n",
    "# The variable 'df' (short for DataFrame) is a standard convention\n",
    "housing_df = pd.read_csv(file_path)\n",
    "\n",
    "# --- INITIAL INSPECTION ---\n",
    "\n",
    "# 1. Look at the first 5 rows to understand the columns and data format\n",
    "print(\"--- First 5 Rows (head) ---\")\n",
    "print(housing_df.head())\n",
    "\n",
    "# 2. Get a concise summary of the DataFrame\n",
    "# This shows column data types, non-null values, and memory usage. It's our best tool for spotting missing data.\n",
    "print(\"\\n--- DataFrame Info ---\")\n",
    "housing_df.info()\n",
    "\n",
    "# 3. Generate descriptive statistics for numerical columns\n",
    "# This includes count, mean, standard deviation, min, max, and quartiles. Great for spotting outliers.\n",
    "print(\"\\n--- Descriptive Statistics (describe) ---\")\n",
    "print(housing_df.describe())"
   ]
  },
  {
   "cell_type": "markdown",
   "id": "558f8116",
   "metadata": {},
   "source": [
    "## Procedemos a la limpieza de datos, HANDLING MISSING VALUES\n",
    "\n"
   ]
  },
  {
   "cell_type": "code",
   "execution_count": 3,
   "id": "9ae3c8b0",
   "metadata": {},
   "outputs": [
    {
     "name": "stdout",
     "output_type": "stream",
     "text": [
      "The calculated median for total_bedrooms is: 435.0\n"
     ]
    },
    {
     "name": "stderr",
     "output_type": "stream",
     "text": [
      "C:\\Users\\gatoh\\AppData\\Local\\Temp\\ipykernel_21924\\2395341098.py:9: FutureWarning: A value is trying to be set on a copy of a DataFrame or Series through chained assignment using an inplace method.\n",
      "The behavior will change in pandas 3.0. This inplace method will never work because the intermediate object on which we are setting values always behaves as a copy.\n",
      "\n",
      "For example, when doing 'df[col].method(value, inplace=True)', try using 'df.method({col: value}, inplace=True)' or df[col] = df[col].method(value) instead, to perform the operation inplace on the original object.\n",
      "\n",
      "\n",
      "  housing_df['total_bedrooms'].fillna(median_total_bedrooms, inplace=True)\n"
     ]
    },
    {
     "name": "stdout",
     "output_type": "stream",
     "text": [
      "\n",
      "--- DataFrame Info After Imputation ---\n",
      "<class 'pandas.core.frame.DataFrame'>\n",
      "RangeIndex: 20640 entries, 0 to 20639\n",
      "Data columns (total 10 columns):\n",
      " #   Column              Non-Null Count  Dtype  \n",
      "---  ------              --------------  -----  \n",
      " 0   longitude           20640 non-null  float64\n",
      " 1   latitude            20640 non-null  float64\n",
      " 2   housing_median_age  20640 non-null  float64\n",
      " 3   total_rooms         20640 non-null  float64\n",
      " 4   total_bedrooms      20640 non-null  float64\n",
      " 5   population          20640 non-null  float64\n",
      " 6   households          20640 non-null  float64\n",
      " 7   median_income       20640 non-null  float64\n",
      " 8   median_house_value  20640 non-null  float64\n",
      " 9   ocean_proximity     20640 non-null  object \n",
      "dtypes: float64(9), object(1)\n",
      "memory usage: 1.6+ MB\n"
     ]
    }
   ],
   "source": [
    "\n",
    "# 1. Calculate the median of the 'total_bedrooms' column.\n",
    "# We choose the median because it is robust to outliers, which we suspect exist in this column.\n",
    "median_total_bedrooms = housing_df['total_bedrooms'].median()\n",
    "print(f\"The calculated median for total_bedrooms is: {median_total_bedrooms}\")\n",
    "\n",
    "# 2. Impute (fill) the missing values in the 'total_bedrooms' column with the median.\n",
    "# The 'inplace=True' argument modifies the DataFrame directly, without needing to reassign it.\n",
    "# e.g., housing_df = housing_df.fillna(...)\n",
    "housing_df['total_bedrooms'].fillna(median_total_bedrooms, inplace=True)\n",
    "\n",
    "# --- VERIFICATION ---\n",
    "\n",
    "# 3. Run .info() again to confirm that 'total_bedrooms' now has no missing values.\n",
    "# The count for total_bedrooms should now match the other columns (20640 entries).\n",
    "print(\"\\n--- DataFrame Info After Imputation ---\")\n",
    "housing_df.info()"
   ]
  }
 ],
 "metadata": {
  "kernelspec": {
   "display_name": ".venv",
   "language": "python",
   "name": "python3"
  },
  "language_info": {
   "codemirror_mode": {
    "name": "ipython",
    "version": 3
   },
   "file_extension": ".py",
   "mimetype": "text/x-python",
   "name": "python",
   "nbconvert_exporter": "python",
   "pygments_lexer": "ipython3",
   "version": "3.13.5"
  }
 },
 "nbformat": 4,
 "nbformat_minor": 5
}
